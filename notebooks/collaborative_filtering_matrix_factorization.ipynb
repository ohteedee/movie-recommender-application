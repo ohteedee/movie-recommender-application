{
 "cells": [
  {
   "cell_type": "code",
   "execution_count": 3,
   "metadata": {},
   "outputs": [],
   "source": [
    "import pandas as pd\n",
    "import numpy as np\n",
    "import seaborn as sns\n",
    "import matplotlib.pyplot as plt\n",
    "from scipy.sparse import csr_matrix\n",
    "from sklearn.decomposition import NMF\n",
    "import pickle"
   ]
  },
  {
   "cell_type": "markdown",
   "metadata": {},
   "source": [
    "#### Let's collect some recommendations for a new users that loves Disney Movies! "
   ]
  },
  {
   "cell_type": "code",
   "execution_count": 4,
   "metadata": {},
   "outputs": [],
   "source": [
    "# for calculating recommendations\n",
    "\n",
    "disney_movies = [\n",
    "    4470, 48, 594, 27619, 152081, 595, 616, 1029, \n",
    "    596, 4016, 1033, 134853, 2018, 588, 364, 26999, \n",
    "    75395,2085, 1907, 2078, 1032, 177765\n",
    "]"
   ]
  },
  {
   "cell_type": "code",
   "execution_count": 5,
   "metadata": {},
   "outputs": [],
   "source": [
    "# for calculating recommendations: movies that the user likes!\n",
    "query = [4470, 48, 594, 27619, 152081, 595, 616, 1029, \n",
    "    596, 4016, 1033]\n",
    "\n",
    "\n",
    "# for testing the recommender after getting some recommendations\n",
    "relevant_items = [\n",
    "    134853, 2018, 588, 364, 26999, \n",
    "    75395,2085, 1907, 2078, 1032, 177765\n",
    "]"
   ]
  },
  {
   "cell_type": "markdown",
   "metadata": {},
   "source": [
    "# Non Negative Matrix Factorization for Recommender Systems\n",
    "---\n",
    "1. Model Development: Training\n",
    "\n",
    "    - process the data\n",
    "    - train the NMF model\n",
    "    - inspect the P and Q matrix\n",
    "    - calculate the reconstruction loss\n",
    "\n",
    "\n",
    "2. Model Deployment: Inference\n",
    "\n",
    "    - save the model on hard drive\n",
    "    - construct a new user vector\n",
    "    - calculate the reconstructed vector\n",
    "    - produce recommendations\n"
   ]
  },
  {
   "cell_type": "markdown",
   "metadata": {},
   "source": [
    "---\n",
    "## 1. Model Development"
   ]
  },
  {
   "cell_type": "code",
   "execution_count": 6,
   "metadata": {},
   "outputs": [
    {
     "data": {
      "text/html": [
       "<div>\n",
       "<style scoped>\n",
       "    .dataframe tbody tr th:only-of-type {\n",
       "        vertical-align: middle;\n",
       "    }\n",
       "\n",
       "    .dataframe tbody tr th {\n",
       "        vertical-align: top;\n",
       "    }\n",
       "\n",
       "    .dataframe thead th {\n",
       "        text-align: right;\n",
       "    }\n",
       "</style>\n",
       "<table border=\"1\" class=\"dataframe\">\n",
       "  <thead>\n",
       "    <tr style=\"text-align: right;\">\n",
       "      <th></th>\n",
       "      <th>userId</th>\n",
       "      <th>movieId</th>\n",
       "      <th>rating</th>\n",
       "      <th>timestamp</th>\n",
       "    </tr>\n",
       "  </thead>\n",
       "  <tbody>\n",
       "    <tr>\n",
       "      <th>0</th>\n",
       "      <td>1</td>\n",
       "      <td>1</td>\n",
       "      <td>4.0</td>\n",
       "      <td>964982703</td>\n",
       "    </tr>\n",
       "    <tr>\n",
       "      <th>1</th>\n",
       "      <td>1</td>\n",
       "      <td>3</td>\n",
       "      <td>4.0</td>\n",
       "      <td>964981247</td>\n",
       "    </tr>\n",
       "    <tr>\n",
       "      <th>2</th>\n",
       "      <td>1</td>\n",
       "      <td>6</td>\n",
       "      <td>4.0</td>\n",
       "      <td>964982224</td>\n",
       "    </tr>\n",
       "    <tr>\n",
       "      <th>3</th>\n",
       "      <td>1</td>\n",
       "      <td>47</td>\n",
       "      <td>5.0</td>\n",
       "      <td>964983815</td>\n",
       "    </tr>\n",
       "    <tr>\n",
       "      <th>4</th>\n",
       "      <td>1</td>\n",
       "      <td>50</td>\n",
       "      <td>5.0</td>\n",
       "      <td>964982931</td>\n",
       "    </tr>\n",
       "  </tbody>\n",
       "</table>\n",
       "</div>"
      ],
      "text/plain": [
       "   userId  movieId  rating  timestamp\n",
       "0       1        1     4.0  964982703\n",
       "1       1        3     4.0  964981247\n",
       "2       1        6     4.0  964982224\n",
       "3       1       47     5.0  964983815\n",
       "4       1       50     5.0  964982931"
      ]
     },
     "execution_count": 6,
     "metadata": {},
     "output_type": "execute_result"
    }
   ],
   "source": [
    "ratings = pd.read_csv('./data/ml-latest-small/ratings.csv')\n",
    "movies = pd.read_csv('./data/ml-latest-small/movies.csv')\n",
    "ratings.head()"
   ]
  },
  {
   "cell_type": "code",
   "execution_count": 9,
   "metadata": {},
   "outputs": [
    {
     "data": {
      "text/html": [
       "<div>\n",
       "<style scoped>\n",
       "    .dataframe tbody tr th:only-of-type {\n",
       "        vertical-align: middle;\n",
       "    }\n",
       "\n",
       "    .dataframe tbody tr th {\n",
       "        vertical-align: top;\n",
       "    }\n",
       "\n",
       "    .dataframe thead th {\n",
       "        text-align: right;\n",
       "    }\n",
       "</style>\n",
       "<table border=\"1\" class=\"dataframe\">\n",
       "  <thead>\n",
       "    <tr style=\"text-align: right;\">\n",
       "      <th></th>\n",
       "      <th>title</th>\n",
       "      <th>genres</th>\n",
       "    </tr>\n",
       "    <tr>\n",
       "      <th>movieId</th>\n",
       "      <th></th>\n",
       "      <th></th>\n",
       "    </tr>\n",
       "  </thead>\n",
       "  <tbody>\n",
       "    <tr>\n",
       "      <th>4470</th>\n",
       "      <td>Ariel (1988)</td>\n",
       "      <td>Drama</td>\n",
       "    </tr>\n",
       "    <tr>\n",
       "      <th>48</th>\n",
       "      <td>Pocahontas (1995)</td>\n",
       "      <td>Animation|Children|Drama|Musical|Romance</td>\n",
       "    </tr>\n",
       "    <tr>\n",
       "      <th>594</th>\n",
       "      <td>Snow White and the Seven Dwarfs (1937)</td>\n",
       "      <td>Animation|Children|Drama|Fantasy|Musical</td>\n",
       "    </tr>\n",
       "    <tr>\n",
       "      <th>27619</th>\n",
       "      <td>Lion King 1½, The (2004)</td>\n",
       "      <td>Adventure|Animation|Children|Comedy</td>\n",
       "    </tr>\n",
       "    <tr>\n",
       "      <th>152081</th>\n",
       "      <td>Zootopia (2016)</td>\n",
       "      <td>Action|Adventure|Animation|Children|Comedy</td>\n",
       "    </tr>\n",
       "    <tr>\n",
       "      <th>595</th>\n",
       "      <td>Beauty and the Beast (1991)</td>\n",
       "      <td>Animation|Children|Fantasy|Musical|Romance|IMAX</td>\n",
       "    </tr>\n",
       "    <tr>\n",
       "      <th>616</th>\n",
       "      <td>Aristocats, The (1970)</td>\n",
       "      <td>Animation|Children</td>\n",
       "    </tr>\n",
       "    <tr>\n",
       "      <th>1029</th>\n",
       "      <td>Dumbo (1941)</td>\n",
       "      <td>Animation|Children|Drama|Musical</td>\n",
       "    </tr>\n",
       "    <tr>\n",
       "      <th>596</th>\n",
       "      <td>Pinocchio (1940)</td>\n",
       "      <td>Animation|Children|Fantasy|Musical</td>\n",
       "    </tr>\n",
       "    <tr>\n",
       "      <th>4016</th>\n",
       "      <td>Emperor's New Groove, The (2000)</td>\n",
       "      <td>Adventure|Animation|Children|Comedy|Fantasy</td>\n",
       "    </tr>\n",
       "    <tr>\n",
       "      <th>1033</th>\n",
       "      <td>Fox and the Hound, The (1981)</td>\n",
       "      <td>Animation|Children|Drama</td>\n",
       "    </tr>\n",
       "  </tbody>\n",
       "</table>\n",
       "</div>"
      ],
      "text/plain": [
       "                                          title  \\\n",
       "movieId                                           \n",
       "4470                               Ariel (1988)   \n",
       "48                            Pocahontas (1995)   \n",
       "594      Snow White and the Seven Dwarfs (1937)   \n",
       "27619                  Lion King 1½, The (2004)   \n",
       "152081                          Zootopia (2016)   \n",
       "595                 Beauty and the Beast (1991)   \n",
       "616                      Aristocats, The (1970)   \n",
       "1029                               Dumbo (1941)   \n",
       "596                            Pinocchio (1940)   \n",
       "4016           Emperor's New Groove, The (2000)   \n",
       "1033              Fox and the Hound, The (1981)   \n",
       "\n",
       "                                                  genres  \n",
       "movieId                                                   \n",
       "4470                                               Drama  \n",
       "48              Animation|Children|Drama|Musical|Romance  \n",
       "594             Animation|Children|Drama|Fantasy|Musical  \n",
       "27619                Adventure|Animation|Children|Comedy  \n",
       "152081        Action|Adventure|Animation|Children|Comedy  \n",
       "595      Animation|Children|Fantasy|Musical|Romance|IMAX  \n",
       "616                                   Animation|Children  \n",
       "1029                    Animation|Children|Drama|Musical  \n",
       "596                   Animation|Children|Fantasy|Musical  \n",
       "4016         Adventure|Animation|Children|Comedy|Fantasy  \n",
       "1033                            Animation|Children|Drama  "
      ]
     },
     "execution_count": 9,
     "metadata": {},
     "output_type": "execute_result"
    }
   ],
   "source": [
    "movies.set_index('movieId').loc[query]"
   ]
  },
  {
   "cell_type": "markdown",
   "metadata": {},
   "source": [
    "### Preprocessing\n",
    "\n",
    "- TODO: filter out movies rated by less than 20 (/ 50 / 100 ...) users\n",
    "- create a sparse user item matrix"
   ]
  },
  {
   "cell_type": "code",
   "execution_count": null,
   "metadata": {},
   "outputs": [],
   "source": [
    "# TODO: calculate the number of ratings per movie\n",
    "ratings_per_movie = ratings.???\n",
    "ratings_per_movie"
   ]
  },
  {
   "cell_type": "code",
   "execution_count": null,
   "metadata": {},
   "outputs": [],
   "source": [
    "# TODO: filter for movies with more than 20 ratings and extract the index\n",
    "popular_movies = ratings_per_movie.???\n",
    "popular_movies"
   ]
  },
  {
   "cell_type": "code",
   "execution_count": null,
   "metadata": {},
   "outputs": [],
   "source": [
    "# TODO: filter the ratings matrix and only keep the popular movies\n",
    "ratings = ratings.loc[???]\n",
    "ratings.head()"
   ]
  },
  {
   "cell_type": "code",
   "execution_count": 10,
   "metadata": {},
   "outputs": [
    {
     "data": {
      "text/html": [
       "<div>\n",
       "<style scoped>\n",
       "    .dataframe tbody tr th:only-of-type {\n",
       "        vertical-align: middle;\n",
       "    }\n",
       "\n",
       "    .dataframe tbody tr th {\n",
       "        vertical-align: top;\n",
       "    }\n",
       "\n",
       "    .dataframe thead th {\n",
       "        text-align: right;\n",
       "    }\n",
       "</style>\n",
       "<table border=\"1\" class=\"dataframe\">\n",
       "  <thead>\n",
       "    <tr style=\"text-align: right;\">\n",
       "      <th></th>\n",
       "      <th>userId</th>\n",
       "      <th>movieId</th>\n",
       "      <th>rating</th>\n",
       "      <th>timestamp</th>\n",
       "    </tr>\n",
       "  </thead>\n",
       "  <tbody>\n",
       "    <tr>\n",
       "      <th>0</th>\n",
       "      <td>1</td>\n",
       "      <td>1</td>\n",
       "      <td>4.0</td>\n",
       "      <td>964982703</td>\n",
       "    </tr>\n",
       "    <tr>\n",
       "      <th>1</th>\n",
       "      <td>1</td>\n",
       "      <td>3</td>\n",
       "      <td>4.0</td>\n",
       "      <td>964981247</td>\n",
       "    </tr>\n",
       "    <tr>\n",
       "      <th>2</th>\n",
       "      <td>1</td>\n",
       "      <td>6</td>\n",
       "      <td>4.0</td>\n",
       "      <td>964982224</td>\n",
       "    </tr>\n",
       "    <tr>\n",
       "      <th>3</th>\n",
       "      <td>1</td>\n",
       "      <td>47</td>\n",
       "      <td>5.0</td>\n",
       "      <td>964983815</td>\n",
       "    </tr>\n",
       "    <tr>\n",
       "      <th>4</th>\n",
       "      <td>1</td>\n",
       "      <td>50</td>\n",
       "      <td>5.0</td>\n",
       "      <td>964982931</td>\n",
       "    </tr>\n",
       "    <tr>\n",
       "      <th>...</th>\n",
       "      <td>...</td>\n",
       "      <td>...</td>\n",
       "      <td>...</td>\n",
       "      <td>...</td>\n",
       "    </tr>\n",
       "    <tr>\n",
       "      <th>100831</th>\n",
       "      <td>610</td>\n",
       "      <td>166534</td>\n",
       "      <td>4.0</td>\n",
       "      <td>1493848402</td>\n",
       "    </tr>\n",
       "    <tr>\n",
       "      <th>100832</th>\n",
       "      <td>610</td>\n",
       "      <td>168248</td>\n",
       "      <td>5.0</td>\n",
       "      <td>1493850091</td>\n",
       "    </tr>\n",
       "    <tr>\n",
       "      <th>100833</th>\n",
       "      <td>610</td>\n",
       "      <td>168250</td>\n",
       "      <td>5.0</td>\n",
       "      <td>1494273047</td>\n",
       "    </tr>\n",
       "    <tr>\n",
       "      <th>100834</th>\n",
       "      <td>610</td>\n",
       "      <td>168252</td>\n",
       "      <td>5.0</td>\n",
       "      <td>1493846352</td>\n",
       "    </tr>\n",
       "    <tr>\n",
       "      <th>100835</th>\n",
       "      <td>610</td>\n",
       "      <td>170875</td>\n",
       "      <td>3.0</td>\n",
       "      <td>1493846415</td>\n",
       "    </tr>\n",
       "  </tbody>\n",
       "</table>\n",
       "<p>100836 rows × 4 columns</p>\n",
       "</div>"
      ],
      "text/plain": [
       "        userId  movieId  rating   timestamp\n",
       "0            1        1     4.0   964982703\n",
       "1            1        3     4.0   964981247\n",
       "2            1        6     4.0   964982224\n",
       "3            1       47     5.0   964983815\n",
       "4            1       50     5.0   964982931\n",
       "...        ...      ...     ...         ...\n",
       "100831     610   166534     4.0  1493848402\n",
       "100832     610   168248     5.0  1493850091\n",
       "100833     610   168250     5.0  1494273047\n",
       "100834     610   168252     5.0  1493846352\n",
       "100835     610   170875     3.0  1493846415\n",
       "\n",
       "[100836 rows x 4 columns]"
      ]
     },
     "execution_count": 10,
     "metadata": {},
     "output_type": "execute_result"
    }
   ],
   "source": [
    "ratings"
   ]
  },
  {
   "cell_type": "code",
   "execution_count": 11,
   "metadata": {},
   "outputs": [
    {
     "data": {
      "text/plain": [
       "<611x193610 sparse matrix of type '<class 'numpy.float64'>'\n",
       "\twith 100836 stored elements in Compressed Sparse Row format>"
      ]
     },
     "execution_count": 11,
     "metadata": {},
     "output_type": "execute_result"
    }
   ],
   "source": [
    "# Initialize a sparse user-item rating matrix \n",
    "# (data, (row_ind, col_ind)\n",
    "R = csr_matrix((ratings['rating'], (ratings['userId'], ratings['movieId'])))\n",
    "R"
   ]
  },
  {
   "cell_type": "code",
   "execution_count": 15,
   "metadata": {},
   "outputs": [
    {
     "data": {
      "text/plain": [
       "<1x193610 sparse matrix of type '<class 'numpy.float64'>'\n",
       "\twith 232 stored elements in Compressed Sparse Row format>"
      ]
     },
     "execution_count": 15,
     "metadata": {},
     "output_type": "execute_result"
    }
   ],
   "source": [
    "# user with id 1 has watched 232 movies\n",
    "R[1, ]"
   ]
  },
  {
   "cell_type": "code",
   "execution_count": 17,
   "metadata": {},
   "outputs": [
    {
     "data": {
      "text/html": [
       "<div>\n",
       "<style scoped>\n",
       "    .dataframe tbody tr th:only-of-type {\n",
       "        vertical-align: middle;\n",
       "    }\n",
       "\n",
       "    .dataframe tbody tr th {\n",
       "        vertical-align: top;\n",
       "    }\n",
       "\n",
       "    .dataframe thead th {\n",
       "        text-align: right;\n",
       "    }\n",
       "</style>\n",
       "<table border=\"1\" class=\"dataframe\">\n",
       "  <thead>\n",
       "    <tr style=\"text-align: right;\">\n",
       "      <th></th>\n",
       "      <th>0</th>\n",
       "      <th>1</th>\n",
       "      <th>2</th>\n",
       "      <th>3</th>\n",
       "      <th>4</th>\n",
       "      <th>5</th>\n",
       "      <th>6</th>\n",
       "      <th>7</th>\n",
       "      <th>8</th>\n",
       "      <th>9</th>\n",
       "      <th>...</th>\n",
       "      <th>193600</th>\n",
       "      <th>193601</th>\n",
       "      <th>193602</th>\n",
       "      <th>193603</th>\n",
       "      <th>193604</th>\n",
       "      <th>193605</th>\n",
       "      <th>193606</th>\n",
       "      <th>193607</th>\n",
       "      <th>193608</th>\n",
       "      <th>193609</th>\n",
       "    </tr>\n",
       "  </thead>\n",
       "  <tbody>\n",
       "    <tr>\n",
       "      <th>0</th>\n",
       "      <td>0.0</td>\n",
       "      <td>0.0</td>\n",
       "      <td>0.0</td>\n",
       "      <td>0.0</td>\n",
       "      <td>0.0</td>\n",
       "      <td>0.0</td>\n",
       "      <td>0.0</td>\n",
       "      <td>0.0</td>\n",
       "      <td>0.0</td>\n",
       "      <td>0.0</td>\n",
       "      <td>...</td>\n",
       "      <td>0.0</td>\n",
       "      <td>0.0</td>\n",
       "      <td>0.0</td>\n",
       "      <td>0.0</td>\n",
       "      <td>0.0</td>\n",
       "      <td>0.0</td>\n",
       "      <td>0.0</td>\n",
       "      <td>0.0</td>\n",
       "      <td>0.0</td>\n",
       "      <td>0.0</td>\n",
       "    </tr>\n",
       "    <tr>\n",
       "      <th>1</th>\n",
       "      <td>0.0</td>\n",
       "      <td>4.0</td>\n",
       "      <td>0.0</td>\n",
       "      <td>4.0</td>\n",
       "      <td>0.0</td>\n",
       "      <td>0.0</td>\n",
       "      <td>4.0</td>\n",
       "      <td>0.0</td>\n",
       "      <td>0.0</td>\n",
       "      <td>0.0</td>\n",
       "      <td>...</td>\n",
       "      <td>0.0</td>\n",
       "      <td>0.0</td>\n",
       "      <td>0.0</td>\n",
       "      <td>0.0</td>\n",
       "      <td>0.0</td>\n",
       "      <td>0.0</td>\n",
       "      <td>0.0</td>\n",
       "      <td>0.0</td>\n",
       "      <td>0.0</td>\n",
       "      <td>0.0</td>\n",
       "    </tr>\n",
       "    <tr>\n",
       "      <th>2</th>\n",
       "      <td>0.0</td>\n",
       "      <td>0.0</td>\n",
       "      <td>0.0</td>\n",
       "      <td>0.0</td>\n",
       "      <td>0.0</td>\n",
       "      <td>0.0</td>\n",
       "      <td>0.0</td>\n",
       "      <td>0.0</td>\n",
       "      <td>0.0</td>\n",
       "      <td>0.0</td>\n",
       "      <td>...</td>\n",
       "      <td>0.0</td>\n",
       "      <td>0.0</td>\n",
       "      <td>0.0</td>\n",
       "      <td>0.0</td>\n",
       "      <td>0.0</td>\n",
       "      <td>0.0</td>\n",
       "      <td>0.0</td>\n",
       "      <td>0.0</td>\n",
       "      <td>0.0</td>\n",
       "      <td>0.0</td>\n",
       "    </tr>\n",
       "    <tr>\n",
       "      <th>3</th>\n",
       "      <td>0.0</td>\n",
       "      <td>0.0</td>\n",
       "      <td>0.0</td>\n",
       "      <td>0.0</td>\n",
       "      <td>0.0</td>\n",
       "      <td>0.0</td>\n",
       "      <td>0.0</td>\n",
       "      <td>0.0</td>\n",
       "      <td>0.0</td>\n",
       "      <td>0.0</td>\n",
       "      <td>...</td>\n",
       "      <td>0.0</td>\n",
       "      <td>0.0</td>\n",
       "      <td>0.0</td>\n",
       "      <td>0.0</td>\n",
       "      <td>0.0</td>\n",
       "      <td>0.0</td>\n",
       "      <td>0.0</td>\n",
       "      <td>0.0</td>\n",
       "      <td>0.0</td>\n",
       "      <td>0.0</td>\n",
       "    </tr>\n",
       "    <tr>\n",
       "      <th>4</th>\n",
       "      <td>0.0</td>\n",
       "      <td>0.0</td>\n",
       "      <td>0.0</td>\n",
       "      <td>0.0</td>\n",
       "      <td>0.0</td>\n",
       "      <td>0.0</td>\n",
       "      <td>0.0</td>\n",
       "      <td>0.0</td>\n",
       "      <td>0.0</td>\n",
       "      <td>0.0</td>\n",
       "      <td>...</td>\n",
       "      <td>0.0</td>\n",
       "      <td>0.0</td>\n",
       "      <td>0.0</td>\n",
       "      <td>0.0</td>\n",
       "      <td>0.0</td>\n",
       "      <td>0.0</td>\n",
       "      <td>0.0</td>\n",
       "      <td>0.0</td>\n",
       "      <td>0.0</td>\n",
       "      <td>0.0</td>\n",
       "    </tr>\n",
       "    <tr>\n",
       "      <th>...</th>\n",
       "      <td>...</td>\n",
       "      <td>...</td>\n",
       "      <td>...</td>\n",
       "      <td>...</td>\n",
       "      <td>...</td>\n",
       "      <td>...</td>\n",
       "      <td>...</td>\n",
       "      <td>...</td>\n",
       "      <td>...</td>\n",
       "      <td>...</td>\n",
       "      <td>...</td>\n",
       "      <td>...</td>\n",
       "      <td>...</td>\n",
       "      <td>...</td>\n",
       "      <td>...</td>\n",
       "      <td>...</td>\n",
       "      <td>...</td>\n",
       "      <td>...</td>\n",
       "      <td>...</td>\n",
       "      <td>...</td>\n",
       "      <td>...</td>\n",
       "    </tr>\n",
       "    <tr>\n",
       "      <th>606</th>\n",
       "      <td>0.0</td>\n",
       "      <td>2.5</td>\n",
       "      <td>0.0</td>\n",
       "      <td>0.0</td>\n",
       "      <td>0.0</td>\n",
       "      <td>0.0</td>\n",
       "      <td>0.0</td>\n",
       "      <td>2.5</td>\n",
       "      <td>0.0</td>\n",
       "      <td>0.0</td>\n",
       "      <td>...</td>\n",
       "      <td>0.0</td>\n",
       "      <td>0.0</td>\n",
       "      <td>0.0</td>\n",
       "      <td>0.0</td>\n",
       "      <td>0.0</td>\n",
       "      <td>0.0</td>\n",
       "      <td>0.0</td>\n",
       "      <td>0.0</td>\n",
       "      <td>0.0</td>\n",
       "      <td>0.0</td>\n",
       "    </tr>\n",
       "    <tr>\n",
       "      <th>607</th>\n",
       "      <td>0.0</td>\n",
       "      <td>4.0</td>\n",
       "      <td>0.0</td>\n",
       "      <td>0.0</td>\n",
       "      <td>0.0</td>\n",
       "      <td>0.0</td>\n",
       "      <td>0.0</td>\n",
       "      <td>0.0</td>\n",
       "      <td>0.0</td>\n",
       "      <td>0.0</td>\n",
       "      <td>...</td>\n",
       "      <td>0.0</td>\n",
       "      <td>0.0</td>\n",
       "      <td>0.0</td>\n",
       "      <td>0.0</td>\n",
       "      <td>0.0</td>\n",
       "      <td>0.0</td>\n",
       "      <td>0.0</td>\n",
       "      <td>0.0</td>\n",
       "      <td>0.0</td>\n",
       "      <td>0.0</td>\n",
       "    </tr>\n",
       "    <tr>\n",
       "      <th>608</th>\n",
       "      <td>0.0</td>\n",
       "      <td>2.5</td>\n",
       "      <td>2.0</td>\n",
       "      <td>2.0</td>\n",
       "      <td>0.0</td>\n",
       "      <td>0.0</td>\n",
       "      <td>0.0</td>\n",
       "      <td>0.0</td>\n",
       "      <td>0.0</td>\n",
       "      <td>0.0</td>\n",
       "      <td>...</td>\n",
       "      <td>0.0</td>\n",
       "      <td>0.0</td>\n",
       "      <td>0.0</td>\n",
       "      <td>0.0</td>\n",
       "      <td>0.0</td>\n",
       "      <td>0.0</td>\n",
       "      <td>0.0</td>\n",
       "      <td>0.0</td>\n",
       "      <td>0.0</td>\n",
       "      <td>0.0</td>\n",
       "    </tr>\n",
       "    <tr>\n",
       "      <th>609</th>\n",
       "      <td>0.0</td>\n",
       "      <td>3.0</td>\n",
       "      <td>0.0</td>\n",
       "      <td>0.0</td>\n",
       "      <td>0.0</td>\n",
       "      <td>0.0</td>\n",
       "      <td>0.0</td>\n",
       "      <td>0.0</td>\n",
       "      <td>0.0</td>\n",
       "      <td>0.0</td>\n",
       "      <td>...</td>\n",
       "      <td>0.0</td>\n",
       "      <td>0.0</td>\n",
       "      <td>0.0</td>\n",
       "      <td>0.0</td>\n",
       "      <td>0.0</td>\n",
       "      <td>0.0</td>\n",
       "      <td>0.0</td>\n",
       "      <td>0.0</td>\n",
       "      <td>0.0</td>\n",
       "      <td>0.0</td>\n",
       "    </tr>\n",
       "    <tr>\n",
       "      <th>610</th>\n",
       "      <td>0.0</td>\n",
       "      <td>5.0</td>\n",
       "      <td>0.0</td>\n",
       "      <td>0.0</td>\n",
       "      <td>0.0</td>\n",
       "      <td>0.0</td>\n",
       "      <td>5.0</td>\n",
       "      <td>0.0</td>\n",
       "      <td>0.0</td>\n",
       "      <td>0.0</td>\n",
       "      <td>...</td>\n",
       "      <td>0.0</td>\n",
       "      <td>0.0</td>\n",
       "      <td>0.0</td>\n",
       "      <td>0.0</td>\n",
       "      <td>0.0</td>\n",
       "      <td>0.0</td>\n",
       "      <td>0.0</td>\n",
       "      <td>0.0</td>\n",
       "      <td>0.0</td>\n",
       "      <td>0.0</td>\n",
       "    </tr>\n",
       "  </tbody>\n",
       "</table>\n",
       "<p>611 rows × 193610 columns</p>\n",
       "</div>"
      ],
      "text/plain": [
       "     0       1       2       3       4       5       6       7       8       \\\n",
       "0       0.0     0.0     0.0     0.0     0.0     0.0     0.0     0.0     0.0   \n",
       "1       0.0     4.0     0.0     4.0     0.0     0.0     4.0     0.0     0.0   \n",
       "2       0.0     0.0     0.0     0.0     0.0     0.0     0.0     0.0     0.0   \n",
       "3       0.0     0.0     0.0     0.0     0.0     0.0     0.0     0.0     0.0   \n",
       "4       0.0     0.0     0.0     0.0     0.0     0.0     0.0     0.0     0.0   \n",
       "..      ...     ...     ...     ...     ...     ...     ...     ...     ...   \n",
       "606     0.0     2.5     0.0     0.0     0.0     0.0     0.0     2.5     0.0   \n",
       "607     0.0     4.0     0.0     0.0     0.0     0.0     0.0     0.0     0.0   \n",
       "608     0.0     2.5     2.0     2.0     0.0     0.0     0.0     0.0     0.0   \n",
       "609     0.0     3.0     0.0     0.0     0.0     0.0     0.0     0.0     0.0   \n",
       "610     0.0     5.0     0.0     0.0     0.0     0.0     5.0     0.0     0.0   \n",
       "\n",
       "     9       ...  193600  193601  193602  193603  193604  193605  193606  \\\n",
       "0       0.0  ...     0.0     0.0     0.0     0.0     0.0     0.0     0.0   \n",
       "1       0.0  ...     0.0     0.0     0.0     0.0     0.0     0.0     0.0   \n",
       "2       0.0  ...     0.0     0.0     0.0     0.0     0.0     0.0     0.0   \n",
       "3       0.0  ...     0.0     0.0     0.0     0.0     0.0     0.0     0.0   \n",
       "4       0.0  ...     0.0     0.0     0.0     0.0     0.0     0.0     0.0   \n",
       "..      ...  ...     ...     ...     ...     ...     ...     ...     ...   \n",
       "606     0.0  ...     0.0     0.0     0.0     0.0     0.0     0.0     0.0   \n",
       "607     0.0  ...     0.0     0.0     0.0     0.0     0.0     0.0     0.0   \n",
       "608     0.0  ...     0.0     0.0     0.0     0.0     0.0     0.0     0.0   \n",
       "609     0.0  ...     0.0     0.0     0.0     0.0     0.0     0.0     0.0   \n",
       "610     0.0  ...     0.0     0.0     0.0     0.0     0.0     0.0     0.0   \n",
       "\n",
       "     193607  193608  193609  \n",
       "0       0.0     0.0     0.0  \n",
       "1       0.0     0.0     0.0  \n",
       "2       0.0     0.0     0.0  \n",
       "3       0.0     0.0     0.0  \n",
       "4       0.0     0.0     0.0  \n",
       "..      ...     ...     ...  \n",
       "606     0.0     0.0     0.0  \n",
       "607     0.0     0.0     0.0  \n",
       "608     0.0     0.0     0.0  \n",
       "609     0.0     0.0     0.0  \n",
       "610     0.0     0.0     0.0  \n",
       "\n",
       "[611 rows x 193610 columns]"
      ]
     },
     "execution_count": 17,
     "metadata": {},
     "output_type": "execute_result"
    }
   ],
   "source": [
    "pd.DataFrame(R.todense())"
   ]
  },
  {
   "cell_type": "markdown",
   "metadata": {},
   "source": [
    "### Training\n",
    "\n",
    "- initialize the model\n",
    "- fit it on the user item matrix\n",
    "- optionally, tune the number of components (hidden features): what happens if you set the number of components to a really low number?\n",
    "- decrease the `tol` to train for a longer time"
   ]
  },
  {
   "cell_type": "code",
   "execution_count": 18,
   "metadata": {},
   "outputs": [
    {
     "name": "stdout",
     "output_type": "stream",
     "text": [
      "violation: 1.0\n",
      "violation: 0.293047792597504\n",
      "violation: 0.19525562134711788\n",
      "violation: 0.14608487639534865\n",
      "violation: 0.11746849932263326\n",
      "violation: 0.09629445182764722\n",
      "violation: 0.07500075376272272\n",
      "violation: 0.058037262577932396\n",
      "violation: 0.046649356791845446\n",
      "violation: 0.03787891243982954\n",
      "violation: 0.03149046978328459\n",
      "violation: 0.027351128268505574\n",
      "violation: 0.02441172521628436\n",
      "violation: 0.022221651802614116\n",
      "violation: 0.02044011596846136\n",
      "violation: 0.01876733766381424\n",
      "violation: 0.017351483470425134\n",
      "violation: 0.01611996563063832\n",
      "violation: 0.015145635000948343\n",
      "violation: 0.014231900268949757\n",
      "violation: 0.013319585236061327\n",
      "violation: 0.012435851169165393\n",
      "violation: 0.011551258720972799\n",
      "violation: 0.010635701337740151\n",
      "violation: 0.009730329771087972\n",
      "violation: 0.00887600637398399\n",
      "violation: 0.008183961139138935\n",
      "violation: 0.00751223671641134\n",
      "violation: 0.0069654730324271484\n",
      "violation: 0.0066092978402461245\n",
      "violation: 0.006329757598910644\n",
      "violation: 0.006066365044694439\n",
      "violation: 0.00583993577683748\n",
      "violation: 0.0056043692507195784\n",
      "violation: 0.0053862705687317625\n",
      "violation: 0.005222220998059693\n",
      "violation: 0.00507069674074374\n",
      "violation: 0.004924539365675539\n",
      "violation: 0.00478097855995228\n",
      "violation: 0.004629992949200024\n",
      "violation: 0.00449597993092419\n",
      "violation: 0.004379033368319095\n",
      "violation: 0.004255656922523124\n",
      "violation: 0.004133376102276894\n",
      "violation: 0.003986150613082172\n",
      "violation: 0.0038773524343024687\n",
      "violation: 0.0037887064605082394\n",
      "violation: 0.0037064545711198577\n",
      "violation: 0.0036011038155682683\n",
      "violation: 0.0035078353067100093\n",
      "violation: 0.00340321218688962\n",
      "violation: 0.0033147148123002187\n",
      "violation: 0.00323637572811596\n",
      "violation: 0.0031725340809143497\n",
      "violation: 0.0031316339333515913\n",
      "violation: 0.0031061122284031335\n",
      "violation: 0.003077696904741681\n",
      "violation: 0.003063847072070077\n",
      "violation: 0.003029751805477416\n",
      "violation: 0.0030270800208350335\n",
      "violation: 0.003027614252219563\n",
      "violation: 0.003021153116864233\n",
      "violation: 0.0030247307887029543\n",
      "violation: 0.0030272380540050685\n",
      "violation: 0.003027255303101433\n",
      "violation: 0.003029169341155033\n",
      "violation: 0.003026050510940702\n",
      "violation: 0.002992967002920537\n",
      "violation: 0.0029782887892445186\n",
      "violation: 0.0029693655312359388\n",
      "violation: 0.002949692853773852\n",
      "violation: 0.00292970396131761\n",
      "violation: 0.0029165933567089765\n",
      "violation: 0.0029019602712286653\n",
      "violation: 0.0028879502420381255\n",
      "violation: 0.0028731484732873367\n",
      "violation: 0.0028666337599592535\n",
      "violation: 0.0028683270045193653\n",
      "violation: 0.002859275711292665\n",
      "violation: 0.002848415346413127\n",
      "violation: 0.00284455795652702\n",
      "violation: 0.0028405465041384794\n",
      "violation: 0.0028323668260329484\n",
      "violation: 0.0028238548025166657\n",
      "violation: 0.0028235656397630087\n",
      "violation: 0.0028253239132663747\n",
      "violation: 0.0028336147547213387\n",
      "violation: 0.002836239760792463\n",
      "violation: 0.0028296073769319323\n",
      "violation: 0.002817348896711709\n",
      "violation: 0.0027971916625525077\n",
      "violation: 0.002786428159050714\n",
      "violation: 0.002777313818579235\n",
      "violation: 0.002753788913609182\n",
      "violation: 0.0027277199972256055\n",
      "violation: 0.0026920606259263256\n",
      "violation: 0.0026422835270471148\n",
      "violation: 0.0025898788390521436\n",
      "violation: 0.0025102476309902134\n",
      "violation: 0.0024337795498369542\n",
      "violation: 0.0023627239907702655\n",
      "violation: 0.002270008599380939\n",
      "violation: 0.0021834959614318804\n",
      "violation: 0.002104828390759935\n",
      "violation: 0.0020377272818519255\n",
      "violation: 0.0019806511335279785\n",
      "violation: 0.001926926792470767\n",
      "violation: 0.0018731675988445798\n",
      "violation: 0.0018073886532068927\n",
      "violation: 0.0017501186884701589\n",
      "violation: 0.0016982292362455998\n",
      "violation: 0.0016529985882716815\n",
      "violation: 0.0016110168248532856\n",
      "violation: 0.0015724922806012692\n",
      "violation: 0.0015317595936952574\n",
      "violation: 0.0014924785392405914\n",
      "violation: 0.0014582340375931678\n",
      "violation: 0.0014237260756987517\n",
      "violation: 0.001382638288214423\n",
      "violation: 0.001349237208332039\n",
      "violation: 0.0013183253811562697\n",
      "violation: 0.0012874393888674986\n",
      "violation: 0.0012581401621821584\n",
      "violation: 0.001228221504380745\n",
      "violation: 0.0011989146427261374\n",
      "violation: 0.0011670978304528401\n",
      "violation: 0.0011392041678029634\n",
      "violation: 0.0011100939317819152\n",
      "violation: 0.0010848400421759373\n",
      "violation: 0.0010602847671436805\n",
      "violation: 0.0010372774242124333\n",
      "violation: 0.0010150353164891594\n",
      "violation: 0.000990460456508153\n",
      "Converged at iteration 134\n"
     ]
    },
    {
     "data": {
      "text/plain": [
       "NMF(init='nndsvd', max_iter=10000, n_components=55, tol=0.001, verbose=2)"
      ]
     },
     "execution_count": 18,
     "metadata": {},
     "output_type": "execute_result"
    }
   ],
   "source": [
    "# initialize the unsupervised model\n",
    "# 55 hidden features\n",
    "model = NMF(n_components=55, init='nndsvd', max_iter=10000, tol=0.0001, verbose=2)\n",
    "\n",
    "# fit it to the user-item rating matrix\n",
    "model.fit(R)\n",
    "\n",
    "# initialzed P, Q matrix with random values\n",
    "# iterate and optimize the values stored in P and Q"
   ]
  },
  {
   "cell_type": "markdown",
   "metadata": {},
   "source": [
    "### Model inspection"
   ]
  },
  {
   "cell_type": "markdown",
   "metadata": {},
   "source": [
    "#### the hidden features"
   ]
  },
  {
   "cell_type": "code",
   "execution_count": 19,
   "metadata": {},
   "outputs": [
    {
     "name": "stdout",
     "output_type": "stream",
     "text": [
      "violation: 1.0\n",
      "violation: 0.812184692828531\n",
      "violation: 0.24565095914032445\n",
      "violation: 0.09172361979755307\n",
      "violation: 0.03819104300548128\n",
      "violation: 0.020845641452666326\n",
      "violation: 0.01260939916633755\n",
      "violation: 0.00806206779057964\n",
      "violation: 0.005213707567702452\n",
      "violation: 0.00340117784762628\n",
      "violation: 0.0022504085571787864\n",
      "violation: 0.0015926970810198073\n",
      "violation: 0.0011462956567310785\n",
      "violation: 0.0008524647978960203\n",
      "Converged at iteration 15\n"
     ]
    }
   ],
   "source": [
    "# user-genre matrix\n",
    "P = model.transform(R)"
   ]
  },
  {
   "cell_type": "code",
   "execution_count": 20,
   "metadata": {},
   "outputs": [
    {
     "data": {
      "text/plain": [
       "((611, 55), (611, 193610))"
      ]
     },
     "execution_count": 20,
     "metadata": {},
     "output_type": "execute_result"
    }
   ],
   "source": [
    "P.shape, R.shape"
   ]
  },
  {
   "cell_type": "code",
   "execution_count": 22,
   "metadata": {},
   "outputs": [
    {
     "data": {
      "text/plain": [
       "array([0.        , 0.        , 0.        , 0.70997187, 0.        ,\n",
       "       0.        , 0.        , 0.        , 0.        , 0.        ,\n",
       "       0.        , 0.        , 0.        , 0.        , 0.        ,\n",
       "       0.42276628, 0.        , 0.        , 0.7580365 , 0.        ,\n",
       "       0.        , 0.        , 0.37625262, 0.        , 0.        ,\n",
       "       0.        , 0.        , 1.284188  , 0.        , 0.        ,\n",
       "       0.        , 0.        , 0.        , 0.08745916, 0.        ,\n",
       "       0.        , 0.        , 0.        , 0.        , 0.        ,\n",
       "       0.        , 0.        , 0.05220307, 0.        , 0.        ,\n",
       "       0.        , 0.        , 0.46938669, 0.        , 0.        ,\n",
       "       0.        , 0.72999867, 0.10082466, 0.        , 0.        ])"
      ]
     },
     "execution_count": 22,
     "metadata": {},
     "output_type": "execute_result"
    }
   ],
   "source": [
    "P[1, :]"
   ]
  },
  {
   "cell_type": "code",
   "execution_count": 23,
   "metadata": {},
   "outputs": [
    {
     "data": {
      "text/plain": [
       "14.558539016510496"
      ]
     },
     "execution_count": 23,
     "metadata": {},
     "output_type": "execute_result"
    }
   ],
   "source": [
    "P.max()"
   ]
  },
  {
   "cell_type": "code",
   "execution_count": 24,
   "metadata": {},
   "outputs": [],
   "source": [
    "# movie-genre matrix\n",
    "Q = model.components_"
   ]
  },
  {
   "cell_type": "code",
   "execution_count": 26,
   "metadata": {},
   "outputs": [
    {
     "data": {
      "text/plain": [
       "((611, 55), (55, 193610))"
      ]
     },
     "execution_count": 26,
     "metadata": {},
     "output_type": "execute_result"
    }
   ],
   "source": [
    "P.shape, Q.shape"
   ]
  },
  {
   "cell_type": "code",
   "execution_count": null,
   "metadata": {},
   "outputs": [],
   "source": [
    "# do the shapes match?\n"
   ]
  },
  {
   "cell_type": "markdown",
   "metadata": {},
   "source": [
    "#### the reconstruction error\n",
    "\n",
    "$$\n",
    "L(R, \\hat{R}) = \\sqrt{\\sum_i\\sum_j(R_{ij}-\\hat{R}_{ij})^2} = \\sqrt{\\sum_i\\sum_j(R_{ij}-PQ_{ij})^2}\n",
    "$$"
   ]
  },
  {
   "cell_type": "code",
   "execution_count": 27,
   "metadata": {},
   "outputs": [
    {
     "data": {
      "text/plain": [
       "762.0727674566688"
      ]
     },
     "execution_count": 27,
     "metadata": {},
     "output_type": "execute_result"
    }
   ],
   "source": [
    "model.reconstruction_err_"
   ]
  },
  {
   "cell_type": "code",
   "execution_count": null,
   "metadata": {},
   "outputs": [],
   "source": [
    "# R -> encoding -> P -> decoding -> Rhat\n",
    "R_hat = ???"
   ]
  },
  {
   "cell_type": "code",
   "execution_count": null,
   "metadata": {},
   "outputs": [],
   "source": [
    "# TODO: how to caluclate the loss manually?\n",
    "???"
   ]
  },
  {
   "cell_type": "markdown",
   "metadata": {},
   "source": [
    "---\n",
    "## 2. Model deployment: Make recommendations for a new user"
   ]
  },
  {
   "cell_type": "markdown",
   "metadata": {},
   "source": [
    "### Save the trained model on your hard drive"
   ]
  },
  {
   "cell_type": "code",
   "execution_count": 28,
   "metadata": {},
   "outputs": [],
   "source": [
    "with open('./nmf_recommender.pkl', 'wb') as file:\n",
    "    pickle.dump(model, file)"
   ]
  },
  {
   "cell_type": "code",
   "execution_count": 29,
   "metadata": {},
   "outputs": [
    {
     "name": "stdout",
     "output_type": "stream",
     "text": [
      "collaborative_filtering_matrix_factorization.ipynb  nmf_recommender.pkl\r\n",
      "data\t\t\t\t\t\t    PCA_Clustering\r\n",
      "exploratory_analysis_movies.ipynb\t\t    PCA_movies.ipynb\r\n",
      "Intro2UnsupervisedLearning_Warmup.ipynb\r\n"
     ]
    }
   ],
   "source": [
    "!ls"
   ]
  },
  {
   "cell_type": "markdown",
   "metadata": {},
   "source": [
    "### Read the model from hard drive"
   ]
  },
  {
   "cell_type": "code",
   "execution_count": 31,
   "metadata": {},
   "outputs": [
    {
     "data": {
      "text/plain": [
       "762.0727674566688"
      ]
     },
     "execution_count": 31,
     "metadata": {},
     "output_type": "execute_result"
    }
   ],
   "source": [
    "with open('./nmf_recommender.pkl', 'rb') as file:\n",
    "    model = pickle.load(file)\n",
    "model.reconstruction_err_"
   ]
  },
  {
   "cell_type": "markdown",
   "metadata": {},
   "source": [
    "### Receive a user query from the website"
   ]
  },
  {
   "cell_type": "code",
   "execution_count": 32,
   "metadata": {},
   "outputs": [
    {
     "data": {
      "text/plain": [
       "[4470, 48, 594, 27619, 152081, 595, 616, 1029, 596, 4016, 1033]"
      ]
     },
     "execution_count": 32,
     "metadata": {},
     "output_type": "execute_result"
    }
   ],
   "source": [
    "query"
   ]
  },
  {
   "cell_type": "code",
   "execution_count": 36,
   "metadata": {},
   "outputs": [
    {
     "data": {
      "text/plain": [
       "193610"
      ]
     },
     "execution_count": 36,
     "metadata": {},
     "output_type": "execute_result"
    }
   ],
   "source": [
    "R.shape[1]"
   ]
  },
  {
   "cell_type": "markdown",
   "metadata": {},
   "source": [
    "### Construct a user vector\n",
    "\n",
    "we need the same input as was used during training!"
   ]
  },
  {
   "cell_type": "code",
   "execution_count": 37,
   "metadata": {},
   "outputs": [
    {
     "name": "stdout",
     "output_type": "stream",
     "text": [
      "193610\n"
     ]
    },
    {
     "data": {
      "text/plain": [
       "array([0, 0, 0, ..., 0, 0, 0])"
      ]
     },
     "execution_count": 37,
     "metadata": {},
     "output_type": "execute_result"
    }
   ],
   "source": [
    "# new user vector: needs to have the same format as the training data\n",
    "\n",
    "# pre fill it with zeros (= missing values)\n",
    "print(R.shape[1])\n",
    "user_vec = np.repeat(0, 193610)\n",
    "\n",
    "# fill in the ratings that arrived from the query\n",
    "user_vec[query] = 5\n",
    "user_vec"
   ]
  },
  {
   "cell_type": "markdown",
   "metadata": {},
   "source": [
    "### Calculate the score\n",
    "\n",
    "1. transform the user vector to the hidden feature space (encoding) \n",
    "2. inverse transform into the sparse representation (decoding)\n",
    "\n",
    "$$\n",
    "\\hat{r}_{ij} = p_i' \\cdot q_j \n",
    "$$"
   ]
  },
  {
   "cell_type": "code",
   "execution_count": 39,
   "metadata": {},
   "outputs": [
    {
     "name": "stdout",
     "output_type": "stream",
     "text": [
      "violation: 1.0\n",
      "violation: 0.8925692473515198\n",
      "violation: 0.05714234399643375\n",
      "violation: 0.0016372225123111213\n",
      "violation: 7.074954084789194e-05\n",
      "Converged at iteration 6\n"
     ]
    },
    {
     "data": {
      "text/plain": [
       "array([[0.        , 0.4394966 , 0.33987123, ..., 0.        , 0.        ,\n",
       "        0.        ]])"
      ]
     },
     "execution_count": 39,
     "metadata": {},
     "output_type": "execute_result"
    }
   ],
   "source": [
    "model.inverse_transform(model.transform([user_vec]))"
   ]
  },
  {
   "cell_type": "code",
   "execution_count": 40,
   "metadata": {},
   "outputs": [
    {
     "name": "stdout",
     "output_type": "stream",
     "text": [
      "violation: 1.0\n",
      "violation: 0.8925692473515198\n",
      "violation: 0.05714234399643375\n",
      "violation: 0.0016372225123111213\n",
      "violation: 7.074954084789194e-05\n",
      "Converged at iteration 6\n"
     ]
    }
   ],
   "source": [
    "scores = model.inverse_transform(model.transform([user_vec]))"
   ]
  },
  {
   "cell_type": "code",
   "execution_count": 41,
   "metadata": {},
   "outputs": [
    {
     "data": {
      "text/plain": [
       "(1, 193610)"
      ]
     },
     "execution_count": 41,
     "metadata": {},
     "output_type": "execute_result"
    }
   ],
   "source": [
    "scores.shape"
   ]
  },
  {
   "cell_type": "code",
   "execution_count": 42,
   "metadata": {},
   "outputs": [
    {
     "data": {
      "text/plain": [
       "(611, 193610)"
      ]
     },
     "execution_count": 42,
     "metadata": {},
     "output_type": "execute_result"
    }
   ],
   "source": [
    "R.shape"
   ]
  },
  {
   "cell_type": "markdown",
   "metadata": {},
   "source": [
    "### Give recommendations"
   ]
  },
  {
   "cell_type": "code",
   "execution_count": 44,
   "metadata": {},
   "outputs": [
    {
     "data": {
      "text/plain": [
       "array([[0.        , 0.4394966 , 0.33987123, ..., 0.        , 0.        ,\n",
       "        0.        ]])"
      ]
     },
     "execution_count": 44,
     "metadata": {},
     "output_type": "execute_result"
    }
   ],
   "source": [
    "scores"
   ]
  },
  {
   "cell_type": "code",
   "execution_count": 46,
   "metadata": {},
   "outputs": [
    {
     "data": {
      "text/plain": [
       "0         0.000000\n",
       "1         0.439497\n",
       "2         0.339871\n",
       "3         0.098730\n",
       "4         0.002881\n",
       "            ...   \n",
       "193605    0.000000\n",
       "193606    0.000000\n",
       "193607    0.000000\n",
       "193608    0.000000\n",
       "193609    0.000000\n",
       "Length: 193610, dtype: float64"
      ]
     },
     "execution_count": 46,
     "metadata": {},
     "output_type": "execute_result"
    }
   ],
   "source": [
    "# convert the scores into a pandas series\n",
    "scores = pd.Series(scores[0])\n",
    "scores"
   ]
  },
  {
   "cell_type": "code",
   "execution_count": 47,
   "metadata": {},
   "outputs": [],
   "source": [
    "# give a zero score to movies the user has allready seen\n",
    "scores[query] = 0"
   ]
  },
  {
   "cell_type": "code",
   "execution_count": 49,
   "metadata": {},
   "outputs": [
    {
     "data": {
      "text/plain": [
       "364     0.715999\n",
       "588     0.610827\n",
       "1028    0.560190\n",
       "1035    0.550817\n",
       "2078    0.525882\n",
       "          ...   \n",
       "4247    0.000000\n",
       "4275    0.000000\n",
       "4249    0.000000\n",
       "4274    0.000000\n",
       "0       0.000000\n",
       "Length: 193610, dtype: float64"
      ]
     },
     "execution_count": 49,
     "metadata": {},
     "output_type": "execute_result"
    }
   ],
   "source": [
    "# sort the scores from high to low \n",
    "scores = scores.sort_values(ascending=False)\n",
    "scores"
   ]
  },
  {
   "cell_type": "code",
   "execution_count": 50,
   "metadata": {},
   "outputs": [
    {
     "data": {
      "text/plain": [
       "Int64Index([364, 588, 1028, 1035, 2078, 919, 1073, 34, 1282, 2081], dtype='int64')"
      ]
     },
     "execution_count": 50,
     "metadata": {},
     "output_type": "execute_result"
    }
   ],
   "source": [
    "# get the movieIds of the top 10 entries\n",
    "recommendations = scores.head(10).index\n",
    "recommendations"
   ]
  },
  {
   "cell_type": "code",
   "execution_count": null,
   "metadata": {},
   "outputs": [],
   "source": [
    "# TODO: precision@10: fraction of recommendations that are relevant\n",
    "recommendations.???"
   ]
  },
  {
   "cell_type": "code",
   "execution_count": 52,
   "metadata": {},
   "outputs": [
    {
     "data": {
      "text/html": [
       "<div>\n",
       "<style scoped>\n",
       "    .dataframe tbody tr th:only-of-type {\n",
       "        vertical-align: middle;\n",
       "    }\n",
       "\n",
       "    .dataframe tbody tr th {\n",
       "        vertical-align: top;\n",
       "    }\n",
       "\n",
       "    .dataframe thead th {\n",
       "        text-align: right;\n",
       "    }\n",
       "</style>\n",
       "<table border=\"1\" class=\"dataframe\">\n",
       "  <thead>\n",
       "    <tr style=\"text-align: right;\">\n",
       "      <th></th>\n",
       "      <th>title</th>\n",
       "      <th>genres</th>\n",
       "    </tr>\n",
       "  </thead>\n",
       "  <tbody>\n",
       "    <tr>\n",
       "      <th>364</th>\n",
       "      <td>Lion King, The (1994)</td>\n",
       "      <td>Adventure|Animation|Children|Drama|Musical|IMAX</td>\n",
       "    </tr>\n",
       "    <tr>\n",
       "      <th>588</th>\n",
       "      <td>Aladdin (1992)</td>\n",
       "      <td>Adventure|Animation|Children|Comedy|Musical</td>\n",
       "    </tr>\n",
       "    <tr>\n",
       "      <th>1028</th>\n",
       "      <td>Mary Poppins (1964)</td>\n",
       "      <td>Children|Comedy|Fantasy|Musical</td>\n",
       "    </tr>\n",
       "    <tr>\n",
       "      <th>1035</th>\n",
       "      <td>Sound of Music, The (1965)</td>\n",
       "      <td>Musical|Romance</td>\n",
       "    </tr>\n",
       "    <tr>\n",
       "      <th>2078</th>\n",
       "      <td>Jungle Book, The (1967)</td>\n",
       "      <td>Animation|Children|Comedy|Musical</td>\n",
       "    </tr>\n",
       "    <tr>\n",
       "      <th>919</th>\n",
       "      <td>Wizard of Oz, The (1939)</td>\n",
       "      <td>Adventure|Children|Fantasy|Musical</td>\n",
       "    </tr>\n",
       "    <tr>\n",
       "      <th>1073</th>\n",
       "      <td>Willy Wonka &amp; the Chocolate Factory (1971)</td>\n",
       "      <td>Children|Comedy|Fantasy|Musical</td>\n",
       "    </tr>\n",
       "    <tr>\n",
       "      <th>34</th>\n",
       "      <td>Babe (1995)</td>\n",
       "      <td>Children|Drama</td>\n",
       "    </tr>\n",
       "    <tr>\n",
       "      <th>1282</th>\n",
       "      <td>Fantasia (1940)</td>\n",
       "      <td>Animation|Children|Fantasy|Musical</td>\n",
       "    </tr>\n",
       "    <tr>\n",
       "      <th>2081</th>\n",
       "      <td>Little Mermaid, The (1989)</td>\n",
       "      <td>Animation|Children|Comedy|Musical|Romance</td>\n",
       "    </tr>\n",
       "  </tbody>\n",
       "</table>\n",
       "</div>"
      ],
      "text/plain": [
       "                                           title  \\\n",
       "364                        Lion King, The (1994)   \n",
       "588                               Aladdin (1992)   \n",
       "1028                         Mary Poppins (1964)   \n",
       "1035                  Sound of Music, The (1965)   \n",
       "2078                     Jungle Book, The (1967)   \n",
       "919                     Wizard of Oz, The (1939)   \n",
       "1073  Willy Wonka & the Chocolate Factory (1971)   \n",
       "34                                   Babe (1995)   \n",
       "1282                             Fantasia (1940)   \n",
       "2081                  Little Mermaid, The (1989)   \n",
       "\n",
       "                                               genres  \n",
       "364   Adventure|Animation|Children|Drama|Musical|IMAX  \n",
       "588       Adventure|Animation|Children|Comedy|Musical  \n",
       "1028                  Children|Comedy|Fantasy|Musical  \n",
       "1035                                  Musical|Romance  \n",
       "2078                Animation|Children|Comedy|Musical  \n",
       "919                Adventure|Children|Fantasy|Musical  \n",
       "1073                  Children|Comedy|Fantasy|Musical  \n",
       "34                                     Children|Drama  \n",
       "1282               Animation|Children|Fantasy|Musical  \n",
       "2081        Animation|Children|Comedy|Musical|Romance  "
      ]
     },
     "execution_count": 52,
     "metadata": {},
     "output_type": "execute_result"
    }
   ],
   "source": [
    "movies.set_index('movieId').loc[recommendations]"
   ]
  },
  {
   "cell_type": "code",
   "execution_count": 53,
   "metadata": {},
   "outputs": [
    {
     "data": {
      "text/plain": [
       "[134853, 2018, 588, 364, 26999, 75395, 2085, 1907, 2078, 1032, 177765]"
      ]
     },
     "execution_count": 53,
     "metadata": {},
     "output_type": "execute_result"
    }
   ],
   "source": [
    "relevant_items"
   ]
  },
  {
   "cell_type": "markdown",
   "metadata": {},
   "source": [
    "---\n",
    "## 3. Project Task: NMF recommender function\n",
    "\n",
    "- Collect different user queries for \"typical\" users (e.g. a horror movie buff) and evaluate the algorithm\n",
    "- Set the number of components to a very low number (e.g. 2). What happens to the recommendations?\n",
    "- Implement a recommender function that recommends movies to a new user based on the NMF model!"
   ]
  },
  {
   "cell_type": "code",
   "execution_count": null,
   "metadata": {},
   "outputs": [],
   "source": [
    "# collaborative filtering = look at ratings only!\n",
    "def recommend_nmf(query, model, k=10):\n",
    "    \"\"\"\n",
    "    Filters and recommends the top k movies for any given input query based on a trained NMF model. \n",
    "    Returns a list of k movie ids.\n",
    "    \"\"\"\n",
    "    # 1. candiate generation\n",
    "    \n",
    "    # construct a user vector\n",
    "    \n",
    "   \n",
    "    # 2. scoring\n",
    "    \n",
    "    # calculate the score with the NMF model\n",
    "    \n",
    "    \n",
    "    # 3. ranking\n",
    "    \n",
    "    # set zero score to movies allready seen by the user\n",
    "    \n",
    "    # return the top-k highst rated movie ids or titles\n",
    "    \n",
    "    return [364, 372, 43, 34, 243]"
   ]
  },
  {
   "cell_type": "code",
   "execution_count": null,
   "metadata": {},
   "outputs": [],
   "source": [
    "# recommender.py\n",
    "# from recommender import recommend_nmf"
   ]
  }
 ],
 "metadata": {
  "kernelspec": {
   "display_name": "Python 3",
   "language": "python",
   "name": "python3"
  },
  "language_info": {
   "codemirror_mode": {
    "name": "ipython",
    "version": 3
   },
   "file_extension": ".py",
   "mimetype": "text/x-python",
   "name": "python",
   "nbconvert_exporter": "python",
   "pygments_lexer": "ipython3",
   "version": "3.7.9"
  }
 },
 "nbformat": 4,
 "nbformat_minor": 4
}
